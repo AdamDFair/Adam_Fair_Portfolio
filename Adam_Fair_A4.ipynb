{
 "cells": [
  {
   "cell_type": "markdown",
   "metadata": {},
   "source": [
    "# Assignment 4\n",
    "\n",
    "## Adam Fair"
   ]
  },
  {
   "cell_type": "markdown",
   "metadata": {},
   "source": [
    "**Some questions will have code answers, some formatted text, and some both. This is indicated in this assignment template.**"
   ]
  },
  {
   "cell_type": "code",
   "execution_count": 11,
   "metadata": {
    "scrolled": true
   },
   "outputs": [],
   "source": [
    "#### Load the packages needed for the assignment in this cell\n",
    "library(tidyverse)\n",
    "library(modelr)\n",
    "library(plyr)\n",
    "require(readstata13)\n",
    "options(na.action = na.warn)"
   ]
  },
  {
   "cell_type": "markdown",
   "metadata": {},
   "source": [
    "## Section 1 Exercises"
   ]
  },
  {
   "cell_type": "markdown",
   "metadata": {},
   "source": [
    "### 1. (12 pts.) Google the function read_csv and find a way to import the Barro-Lee dataset into your R session. You can check Chapter 11 in the R for Data Science book for how to do this. Similarly, install and load the package readstata13 and look up the function read.dta13 to load the Penn World Table dataset. In the Barro-Lee dataset, filter out so that you only consider people between and including 20 and 24 years old, using the variables ageto and agefrom."
   ]
  },
  {
   "cell_type": "code",
   "execution_count": 12,
   "metadata": {},
   "outputs": [
    {
     "data": {
      "text/html": [
       "<table>\n",
       "<thead><tr><th scope=col>BLcode</th><th scope=col>country</th><th scope=col>year</th><th scope=col>sex</th><th scope=col>agefrom</th><th scope=col>ageto</th><th scope=col>lu</th><th scope=col>lp</th><th scope=col>lpc</th><th scope=col>ls</th><th scope=col>lsc</th><th scope=col>lh</th><th scope=col>lhc</th><th scope=col>yr_sch</th><th scope=col>yr_sch_pri</th><th scope=col>yr_sch_sec</th><th scope=col>yr_sch_ter</th><th scope=col>pop</th><th scope=col>WBcode</th><th scope=col>region_code</th></tr></thead>\n",
       "<tbody>\n",
       "\t<tr><td>1                           </td><td>Algeria                     </td><td>1950                        </td><td>MF                          </td><td>20                          </td><td>24                          </td><td>81.48148                    </td><td>16.21622                    </td><td> 4.304305                   </td><td> 1.901902                   </td><td> 0.7510979                  </td><td>0.4004004                   </td><td>0.16429859                  </td><td>0.8916848                   </td><td>0.7537538                   </td><td>0.1266370                   </td><td>0.011294007                 </td><td> 756                        </td><td>DZA                         </td><td>Middle East and North Africa</td></tr>\n",
       "\t<tr><td>1                           </td><td>Algeria                     </td><td>1955                        </td><td>MF                          </td><td>20                          </td><td>24                          </td><td>84.60000                    </td><td>13.50000                    </td><td> 2.800000                   </td><td> 1.800000                   </td><td> 0.9000000                  </td><td>0.1000000                   </td><td>0.04078325                  </td><td>0.7118157                   </td><td>0.6030000                   </td><td>0.1060000                   </td><td>0.002815671                 </td><td> 839                        </td><td>DZA                         </td><td>Middle East and North Africa</td></tr>\n",
       "\t<tr><td>1                           </td><td>Algeria                     </td><td>1960                        </td><td>MF                          </td><td>20                          </td><td>24                          </td><td>83.70000                    </td><td>12.90000                    </td><td> 2.877756                   </td><td> 2.800000                   </td><td> 1.5593042                  </td><td>0.6000000                   </td><td>0.24195360                  </td><td>0.8949509                   </td><td>0.6773326                   </td><td>0.2007791                   </td><td>0.016839102                 </td><td> 913                        </td><td>DZA                         </td><td>Middle East and North Africa</td></tr>\n",
       "\t<tr><td>1                           </td><td>Algeria                     </td><td>1965                        </td><td>MF                          </td><td>20                          </td><td>24                          </td><td>75.90000                    </td><td>17.70000                    </td><td> 5.372808                   </td><td> 5.600000                   </td><td> 3.8085012                  </td><td>0.8000000                   </td><td>0.32037264                  </td><td>1.4928467                   </td><td>1.0761843                   </td><td>0.3942550                   </td><td>0.022407413                 </td><td> 975                        </td><td>DZA                         </td><td>Middle East and North Africa</td></tr>\n",
       "\t<tr><td>1                           </td><td>Algeria                     </td><td>1970                        </td><td>MF                          </td><td>20                          </td><td>24                          </td><td>52.90000                    </td><td>31.20000                    </td><td>10.023290                   </td><td>15.400000                   </td><td>11.1555700                  </td><td>0.4000000                   </td><td>0.15818934                  </td><td>3.1745296                   </td><td>2.1846988                   </td><td>0.9786671                   </td><td>0.011163652                 </td><td>1021                        </td><td>DZA                         </td><td>Middle East and North Africa</td></tr>\n",
       "\t<tr><td>1                           </td><td>Algeria                     </td><td>1975                        </td><td>MF                          </td><td>20                          </td><td>24                          </td><td>39.27015                    </td><td>41.96342                    </td><td> 5.325005                   </td><td>16.585915                   </td><td>12.1476336                  </td><td>2.1805212                   </td><td>0.84833354                  </td><td>3.7857180                   </td><td>2.5446389                   </td><td>1.1805021                   </td><td>0.060577035                 </td><td>1326                        </td><td>DZA                         </td><td>Middle East and North Africa</td></tr>\n",
       "</tbody>\n",
       "</table>\n"
      ],
      "text/latex": [
       "\\begin{tabular}{r|llllllllllllllllllll}\n",
       " BLcode & country & year & sex & agefrom & ageto & lu & lp & lpc & ls & lsc & lh & lhc & yr\\_sch & yr\\_sch\\_pri & yr\\_sch\\_sec & yr\\_sch\\_ter & pop & WBcode & region\\_code\\\\\n",
       "\\hline\n",
       "\t 1                            & Algeria                      & 1950                         & MF                           & 20                           & 24                           & 81.48148                     & 16.21622                     &  4.304305                    &  1.901902                    &  0.7510979                   & 0.4004004                    & 0.16429859                   & 0.8916848                    & 0.7537538                    & 0.1266370                    & 0.011294007                  &  756                         & DZA                          & Middle East and North Africa\\\\\n",
       "\t 1                            & Algeria                      & 1955                         & MF                           & 20                           & 24                           & 84.60000                     & 13.50000                     &  2.800000                    &  1.800000                    &  0.9000000                   & 0.1000000                    & 0.04078325                   & 0.7118157                    & 0.6030000                    & 0.1060000                    & 0.002815671                  &  839                         & DZA                          & Middle East and North Africa\\\\\n",
       "\t 1                            & Algeria                      & 1960                         & MF                           & 20                           & 24                           & 83.70000                     & 12.90000                     &  2.877756                    &  2.800000                    &  1.5593042                   & 0.6000000                    & 0.24195360                   & 0.8949509                    & 0.6773326                    & 0.2007791                    & 0.016839102                  &  913                         & DZA                          & Middle East and North Africa\\\\\n",
       "\t 1                            & Algeria                      & 1965                         & MF                           & 20                           & 24                           & 75.90000                     & 17.70000                     &  5.372808                    &  5.600000                    &  3.8085012                   & 0.8000000                    & 0.32037264                   & 1.4928467                    & 1.0761843                    & 0.3942550                    & 0.022407413                  &  975                         & DZA                          & Middle East and North Africa\\\\\n",
       "\t 1                            & Algeria                      & 1970                         & MF                           & 20                           & 24                           & 52.90000                     & 31.20000                     & 10.023290                    & 15.400000                    & 11.1555700                   & 0.4000000                    & 0.15818934                   & 3.1745296                    & 2.1846988                    & 0.9786671                    & 0.011163652                  & 1021                         & DZA                          & Middle East and North Africa\\\\\n",
       "\t 1                            & Algeria                      & 1975                         & MF                           & 20                           & 24                           & 39.27015                     & 41.96342                     &  5.325005                    & 16.585915                    & 12.1476336                   & 2.1805212                    & 0.84833354                   & 3.7857180                    & 2.5446389                    & 1.1805021                    & 0.060577035                  & 1326                         & DZA                          & Middle East and North Africa\\\\\n",
       "\\end{tabular}\n"
      ],
      "text/markdown": [
       "\n",
       "| BLcode | country | year | sex | agefrom | ageto | lu | lp | lpc | ls | lsc | lh | lhc | yr_sch | yr_sch_pri | yr_sch_sec | yr_sch_ter | pop | WBcode | region_code |\n",
       "|---|---|---|---|---|---|---|---|---|---|---|---|---|---|---|---|---|---|---|---|\n",
       "| 1                            | Algeria                      | 1950                         | MF                           | 20                           | 24                           | 81.48148                     | 16.21622                     |  4.304305                    |  1.901902                    |  0.7510979                   | 0.4004004                    | 0.16429859                   | 0.8916848                    | 0.7537538                    | 0.1266370                    | 0.011294007                  |  756                         | DZA                          | Middle East and North Africa |\n",
       "| 1                            | Algeria                      | 1955                         | MF                           | 20                           | 24                           | 84.60000                     | 13.50000                     |  2.800000                    |  1.800000                    |  0.9000000                   | 0.1000000                    | 0.04078325                   | 0.7118157                    | 0.6030000                    | 0.1060000                    | 0.002815671                  |  839                         | DZA                          | Middle East and North Africa |\n",
       "| 1                            | Algeria                      | 1960                         | MF                           | 20                           | 24                           | 83.70000                     | 12.90000                     |  2.877756                    |  2.800000                    |  1.5593042                   | 0.6000000                    | 0.24195360                   | 0.8949509                    | 0.6773326                    | 0.2007791                    | 0.016839102                  |  913                         | DZA                          | Middle East and North Africa |\n",
       "| 1                            | Algeria                      | 1965                         | MF                           | 20                           | 24                           | 75.90000                     | 17.70000                     |  5.372808                    |  5.600000                    |  3.8085012                   | 0.8000000                    | 0.32037264                   | 1.4928467                    | 1.0761843                    | 0.3942550                    | 0.022407413                  |  975                         | DZA                          | Middle East and North Africa |\n",
       "| 1                            | Algeria                      | 1970                         | MF                           | 20                           | 24                           | 52.90000                     | 31.20000                     | 10.023290                    | 15.400000                    | 11.1555700                   | 0.4000000                    | 0.15818934                   | 3.1745296                    | 2.1846988                    | 0.9786671                    | 0.011163652                  | 1021                         | DZA                          | Middle East and North Africa |\n",
       "| 1                            | Algeria                      | 1975                         | MF                           | 20                           | 24                           | 39.27015                     | 41.96342                     |  5.325005                    | 16.585915                    | 12.1476336                   | 2.1805212                    | 0.84833354                   | 3.7857180                    | 2.5446389                    | 1.1805021                    | 0.060577035                  | 1326                         | DZA                          | Middle East and North Africa |\n",
       "\n"
      ],
      "text/plain": [
       "  BLcode country year sex agefrom ageto lu       lp       lpc       ls       \n",
       "1 1      Algeria 1950 MF  20      24    81.48148 16.21622  4.304305  1.901902\n",
       "2 1      Algeria 1955 MF  20      24    84.60000 13.50000  2.800000  1.800000\n",
       "3 1      Algeria 1960 MF  20      24    83.70000 12.90000  2.877756  2.800000\n",
       "4 1      Algeria 1965 MF  20      24    75.90000 17.70000  5.372808  5.600000\n",
       "5 1      Algeria 1970 MF  20      24    52.90000 31.20000 10.023290 15.400000\n",
       "6 1      Algeria 1975 MF  20      24    39.27015 41.96342  5.325005 16.585915\n",
       "  lsc        lh        lhc        yr_sch    yr_sch_pri yr_sch_sec yr_sch_ter \n",
       "1  0.7510979 0.4004004 0.16429859 0.8916848 0.7537538  0.1266370  0.011294007\n",
       "2  0.9000000 0.1000000 0.04078325 0.7118157 0.6030000  0.1060000  0.002815671\n",
       "3  1.5593042 0.6000000 0.24195360 0.8949509 0.6773326  0.2007791  0.016839102\n",
       "4  3.8085012 0.8000000 0.32037264 1.4928467 1.0761843  0.3942550  0.022407413\n",
       "5 11.1555700 0.4000000 0.15818934 3.1745296 2.1846988  0.9786671  0.011163652\n",
       "6 12.1476336 2.1805212 0.84833354 3.7857180 2.5446389  1.1805021  0.060577035\n",
       "  pop  WBcode region_code                 \n",
       "1  756 DZA    Middle East and North Africa\n",
       "2  839 DZA    Middle East and North Africa\n",
       "3  913 DZA    Middle East and North Africa\n",
       "4  975 DZA    Middle East and North Africa\n",
       "5 1021 DZA    Middle East and North Africa\n",
       "6 1326 DZA    Middle East and North Africa"
      ]
     },
     "metadata": {},
     "output_type": "display_data"
    },
    {
     "data": {
      "text/html": [
       "<table>\n",
       "<thead><tr><th scope=col>countrycode</th><th scope=col>country</th><th scope=col>currency_unit</th><th scope=col>year</th><th scope=col>rgdpe</th><th scope=col>rgdpo</th><th scope=col>pop</th><th scope=col>emp</th><th scope=col>avh</th><th scope=col>hc</th><th scope=col>...</th><th scope=col>csh_g</th><th scope=col>csh_x</th><th scope=col>csh_m</th><th scope=col>csh_r</th><th scope=col>pl_c</th><th scope=col>pl_i</th><th scope=col>pl_g</th><th scope=col>pl_x</th><th scope=col>pl_m</th><th scope=col>pl_k</th></tr></thead>\n",
       "<tbody>\n",
       "\t<tr><td>ABW           </td><td>Aruba         </td><td>Aruban Guilder</td><td>1950          </td><td>NA            </td><td>NA            </td><td>NA            </td><td>NA            </td><td>NA            </td><td>NA            </td><td>...           </td><td>NA            </td><td>NA            </td><td>NA            </td><td>NA            </td><td>NA            </td><td>NA            </td><td>NA            </td><td>NA            </td><td>NA            </td><td>NA            </td></tr>\n",
       "\t<tr><td>ABW           </td><td>Aruba         </td><td>Aruban Guilder</td><td>1951          </td><td>NA            </td><td>NA            </td><td>NA            </td><td>NA            </td><td>NA            </td><td>NA            </td><td>...           </td><td>NA            </td><td>NA            </td><td>NA            </td><td>NA            </td><td>NA            </td><td>NA            </td><td>NA            </td><td>NA            </td><td>NA            </td><td>NA            </td></tr>\n",
       "\t<tr><td>ABW           </td><td>Aruba         </td><td>Aruban Guilder</td><td>1952          </td><td>NA            </td><td>NA            </td><td>NA            </td><td>NA            </td><td>NA            </td><td>NA            </td><td>...           </td><td>NA            </td><td>NA            </td><td>NA            </td><td>NA            </td><td>NA            </td><td>NA            </td><td>NA            </td><td>NA            </td><td>NA            </td><td>NA            </td></tr>\n",
       "\t<tr><td>ABW           </td><td>Aruba         </td><td>Aruban Guilder</td><td>1953          </td><td>NA            </td><td>NA            </td><td>NA            </td><td>NA            </td><td>NA            </td><td>NA            </td><td>...           </td><td>NA            </td><td>NA            </td><td>NA            </td><td>NA            </td><td>NA            </td><td>NA            </td><td>NA            </td><td>NA            </td><td>NA            </td><td>NA            </td></tr>\n",
       "\t<tr><td>ABW           </td><td>Aruba         </td><td>Aruban Guilder</td><td>1954          </td><td>NA            </td><td>NA            </td><td>NA            </td><td>NA            </td><td>NA            </td><td>NA            </td><td>...           </td><td>NA            </td><td>NA            </td><td>NA            </td><td>NA            </td><td>NA            </td><td>NA            </td><td>NA            </td><td>NA            </td><td>NA            </td><td>NA            </td></tr>\n",
       "\t<tr><td>ABW           </td><td>Aruba         </td><td>Aruban Guilder</td><td>1955          </td><td>NA            </td><td>NA            </td><td>NA            </td><td>NA            </td><td>NA            </td><td>NA            </td><td>...           </td><td>NA            </td><td>NA            </td><td>NA            </td><td>NA            </td><td>NA            </td><td>NA            </td><td>NA            </td><td>NA            </td><td>NA            </td><td>NA            </td></tr>\n",
       "</tbody>\n",
       "</table>\n"
      ],
      "text/latex": [
       "\\begin{tabular}{r|lllllllllllllllllllllllllllllllllllllllllllllll}\n",
       " countrycode & country & currency\\_unit & year & rgdpe & rgdpo & pop & emp & avh & hc & ... & csh\\_g & csh\\_x & csh\\_m & csh\\_r & pl\\_c & pl\\_i & pl\\_g & pl\\_x & pl\\_m & pl\\_k\\\\\n",
       "\\hline\n",
       "\t ABW            & Aruba          & Aruban Guilder & 1950           & NA             & NA             & NA             & NA             & NA             & NA             & ...            & NA             & NA             & NA             & NA             & NA             & NA             & NA             & NA             & NA             & NA            \\\\\n",
       "\t ABW            & Aruba          & Aruban Guilder & 1951           & NA             & NA             & NA             & NA             & NA             & NA             & ...            & NA             & NA             & NA             & NA             & NA             & NA             & NA             & NA             & NA             & NA            \\\\\n",
       "\t ABW            & Aruba          & Aruban Guilder & 1952           & NA             & NA             & NA             & NA             & NA             & NA             & ...            & NA             & NA             & NA             & NA             & NA             & NA             & NA             & NA             & NA             & NA            \\\\\n",
       "\t ABW            & Aruba          & Aruban Guilder & 1953           & NA             & NA             & NA             & NA             & NA             & NA             & ...            & NA             & NA             & NA             & NA             & NA             & NA             & NA             & NA             & NA             & NA            \\\\\n",
       "\t ABW            & Aruba          & Aruban Guilder & 1954           & NA             & NA             & NA             & NA             & NA             & NA             & ...            & NA             & NA             & NA             & NA             & NA             & NA             & NA             & NA             & NA             & NA            \\\\\n",
       "\t ABW            & Aruba          & Aruban Guilder & 1955           & NA             & NA             & NA             & NA             & NA             & NA             & ...            & NA             & NA             & NA             & NA             & NA             & NA             & NA             & NA             & NA             & NA            \\\\\n",
       "\\end{tabular}\n"
      ],
      "text/markdown": [
       "\n",
       "| countrycode | country | currency_unit | year | rgdpe | rgdpo | pop | emp | avh | hc | ... | csh_g | csh_x | csh_m | csh_r | pl_c | pl_i | pl_g | pl_x | pl_m | pl_k |\n",
       "|---|---|---|---|---|---|---|---|---|---|---|---|---|---|---|---|---|---|---|---|---|\n",
       "| ABW            | Aruba          | Aruban Guilder | 1950           | NA             | NA             | NA             | NA             | NA             | NA             | ...            | NA             | NA             | NA             | NA             | NA             | NA             | NA             | NA             | NA             | NA             |\n",
       "| ABW            | Aruba          | Aruban Guilder | 1951           | NA             | NA             | NA             | NA             | NA             | NA             | ...            | NA             | NA             | NA             | NA             | NA             | NA             | NA             | NA             | NA             | NA             |\n",
       "| ABW            | Aruba          | Aruban Guilder | 1952           | NA             | NA             | NA             | NA             | NA             | NA             | ...            | NA             | NA             | NA             | NA             | NA             | NA             | NA             | NA             | NA             | NA             |\n",
       "| ABW            | Aruba          | Aruban Guilder | 1953           | NA             | NA             | NA             | NA             | NA             | NA             | ...            | NA             | NA             | NA             | NA             | NA             | NA             | NA             | NA             | NA             | NA             |\n",
       "| ABW            | Aruba          | Aruban Guilder | 1954           | NA             | NA             | NA             | NA             | NA             | NA             | ...            | NA             | NA             | NA             | NA             | NA             | NA             | NA             | NA             | NA             | NA             |\n",
       "| ABW            | Aruba          | Aruban Guilder | 1955           | NA             | NA             | NA             | NA             | NA             | NA             | ...            | NA             | NA             | NA             | NA             | NA             | NA             | NA             | NA             | NA             | NA             |\n",
       "\n"
      ],
      "text/plain": [
       "  countrycode country currency_unit  year rgdpe rgdpo pop emp avh hc ... csh_g\n",
       "1 ABW         Aruba   Aruban Guilder 1950 NA    NA    NA  NA  NA  NA ... NA   \n",
       "2 ABW         Aruba   Aruban Guilder 1951 NA    NA    NA  NA  NA  NA ... NA   \n",
       "3 ABW         Aruba   Aruban Guilder 1952 NA    NA    NA  NA  NA  NA ... NA   \n",
       "4 ABW         Aruba   Aruban Guilder 1953 NA    NA    NA  NA  NA  NA ... NA   \n",
       "5 ABW         Aruba   Aruban Guilder 1954 NA    NA    NA  NA  NA  NA ... NA   \n",
       "6 ABW         Aruba   Aruban Guilder 1955 NA    NA    NA  NA  NA  NA ... NA   \n",
       "  csh_x csh_m csh_r pl_c pl_i pl_g pl_x pl_m pl_k\n",
       "1 NA    NA    NA    NA   NA   NA   NA   NA   NA  \n",
       "2 NA    NA    NA    NA   NA   NA   NA   NA   NA  \n",
       "3 NA    NA    NA    NA   NA   NA   NA   NA   NA  \n",
       "4 NA    NA    NA    NA   NA   NA   NA   NA   NA  \n",
       "5 NA    NA    NA    NA   NA   NA   NA   NA   NA  \n",
       "6 NA    NA    NA    NA   NA   NA   NA   NA   NA  "
      ]
     },
     "metadata": {},
     "output_type": "display_data"
    }
   ],
   "source": [
    "# Type Code in this cell that answers the question\n",
    "\n",
    "PWT.df = read.dta13(\"pwt90.dta\")\n",
    "BL.df = read.dta13(\"BL2013_MF_v2.2.dta\")\n",
    "#using the read_csv function for the data frame returned the error \"Warning message:\"5993 parsing failures.\"\n",
    "\n",
    "\n",
    "BL.df2 <- BL.df %>%\n",
    "filter(agefrom == 20) %>%\n",
    "filter(ageto == 24)\n",
    "\n",
    "head(BL.df2)\n",
    "head(PWT.df)"
   ]
  },
  {
   "cell_type": "markdown",
   "metadata": {},
   "source": [
    "### 2. (15 pts.) Read Chapter 13.4 in R for Data Science, and use it to find a way to combine the Penn World Table and the Barro-Lee data set. Try using a “left_join” and and “inner_join”. Summarize how your results are different. Then, use inner_join to create your main dataset, and call it gdp_sch.\n",
    "\n",
    "#### Note 1: You will match on country codes and year. You will have to rename these variables in the Barro-Lee dataset to ensure that they will match. Do this using “rename”. Use the name “countrycode” for the three-letter country code, and “year” (in lower-case letters) for year.\n",
    "#### Note 2: Select countrycode, year, and yr_sch (average years of schooling) from the Barro-Lee data set before matching. These are the variables you will use, and minimizes the risk that the join tries to match on variables that you do not want to match on (e.g., population)."
   ]
  },
  {
   "cell_type": "code",
   "execution_count": 25,
   "metadata": {},
   "outputs": [
    {
     "data": {
      "text/html": [
       "<ol class=list-inline>\n",
       "\t<li>'countrycode'</li>\n",
       "\t<li>'year'</li>\n",
       "\t<li>'yr_sch'</li>\n",
       "\t<li>'country'</li>\n",
       "\t<li>'currency_unit'</li>\n",
       "\t<li>'rgdpe'</li>\n",
       "\t<li>'rgdpo'</li>\n",
       "\t<li>'pop'</li>\n",
       "\t<li>'emp'</li>\n",
       "\t<li>'avh'</li>\n",
       "\t<li>'hc'</li>\n",
       "\t<li>'ccon'</li>\n",
       "\t<li>'cda'</li>\n",
       "\t<li>'cgdpe'</li>\n",
       "\t<li>'cgdpo'</li>\n",
       "\t<li>'ck'</li>\n",
       "\t<li>'ctfp'</li>\n",
       "\t<li>'cwtfp'</li>\n",
       "\t<li>'rgdpna'</li>\n",
       "\t<li>'rconna'</li>\n",
       "\t<li>'rdana'</li>\n",
       "\t<li>'rkna'</li>\n",
       "\t<li>'rtfpna'</li>\n",
       "\t<li>'rwtfpna'</li>\n",
       "\t<li>'labsh'</li>\n",
       "\t<li>'delta'</li>\n",
       "\t<li>'xr'</li>\n",
       "\t<li>'pl_con'</li>\n",
       "\t<li>'pl_da'</li>\n",
       "\t<li>'pl_gdpo'</li>\n",
       "\t<li>'i_cig'</li>\n",
       "\t<li>'i_xm'</li>\n",
       "\t<li>'i_xr'</li>\n",
       "\t<li>'i_outlier'</li>\n",
       "\t<li>'cor_exp'</li>\n",
       "\t<li>'statcap'</li>\n",
       "\t<li>'csh_c'</li>\n",
       "\t<li>'csh_i'</li>\n",
       "\t<li>'csh_g'</li>\n",
       "\t<li>'csh_x'</li>\n",
       "\t<li>'csh_m'</li>\n",
       "\t<li>'csh_r'</li>\n",
       "\t<li>'pl_c'</li>\n",
       "\t<li>'pl_i'</li>\n",
       "\t<li>'pl_g'</li>\n",
       "\t<li>'pl_x'</li>\n",
       "\t<li>'pl_m'</li>\n",
       "\t<li>'pl_k'</li>\n",
       "</ol>\n"
      ],
      "text/latex": [
       "\\begin{enumerate*}\n",
       "\\item 'countrycode'\n",
       "\\item 'year'\n",
       "\\item 'yr\\_sch'\n",
       "\\item 'country'\n",
       "\\item 'currency\\_unit'\n",
       "\\item 'rgdpe'\n",
       "\\item 'rgdpo'\n",
       "\\item 'pop'\n",
       "\\item 'emp'\n",
       "\\item 'avh'\n",
       "\\item 'hc'\n",
       "\\item 'ccon'\n",
       "\\item 'cda'\n",
       "\\item 'cgdpe'\n",
       "\\item 'cgdpo'\n",
       "\\item 'ck'\n",
       "\\item 'ctfp'\n",
       "\\item 'cwtfp'\n",
       "\\item 'rgdpna'\n",
       "\\item 'rconna'\n",
       "\\item 'rdana'\n",
       "\\item 'rkna'\n",
       "\\item 'rtfpna'\n",
       "\\item 'rwtfpna'\n",
       "\\item 'labsh'\n",
       "\\item 'delta'\n",
       "\\item 'xr'\n",
       "\\item 'pl\\_con'\n",
       "\\item 'pl\\_da'\n",
       "\\item 'pl\\_gdpo'\n",
       "\\item 'i\\_cig'\n",
       "\\item 'i\\_xm'\n",
       "\\item 'i\\_xr'\n",
       "\\item 'i\\_outlier'\n",
       "\\item 'cor\\_exp'\n",
       "\\item 'statcap'\n",
       "\\item 'csh\\_c'\n",
       "\\item 'csh\\_i'\n",
       "\\item 'csh\\_g'\n",
       "\\item 'csh\\_x'\n",
       "\\item 'csh\\_m'\n",
       "\\item 'csh\\_r'\n",
       "\\item 'pl\\_c'\n",
       "\\item 'pl\\_i'\n",
       "\\item 'pl\\_g'\n",
       "\\item 'pl\\_x'\n",
       "\\item 'pl\\_m'\n",
       "\\item 'pl\\_k'\n",
       "\\end{enumerate*}\n"
      ],
      "text/markdown": [
       "1. 'countrycode'\n",
       "2. 'year'\n",
       "3. 'yr_sch'\n",
       "4. 'country'\n",
       "5. 'currency_unit'\n",
       "6. 'rgdpe'\n",
       "7. 'rgdpo'\n",
       "8. 'pop'\n",
       "9. 'emp'\n",
       "10. 'avh'\n",
       "11. 'hc'\n",
       "12. 'ccon'\n",
       "13. 'cda'\n",
       "14. 'cgdpe'\n",
       "15. 'cgdpo'\n",
       "16. 'ck'\n",
       "17. 'ctfp'\n",
       "18. 'cwtfp'\n",
       "19. 'rgdpna'\n",
       "20. 'rconna'\n",
       "21. 'rdana'\n",
       "22. 'rkna'\n",
       "23. 'rtfpna'\n",
       "24. 'rwtfpna'\n",
       "25. 'labsh'\n",
       "26. 'delta'\n",
       "27. 'xr'\n",
       "28. 'pl_con'\n",
       "29. 'pl_da'\n",
       "30. 'pl_gdpo'\n",
       "31. 'i_cig'\n",
       "32. 'i_xm'\n",
       "33. 'i_xr'\n",
       "34. 'i_outlier'\n",
       "35. 'cor_exp'\n",
       "36. 'statcap'\n",
       "37. 'csh_c'\n",
       "38. 'csh_i'\n",
       "39. 'csh_g'\n",
       "40. 'csh_x'\n",
       "41. 'csh_m'\n",
       "42. 'csh_r'\n",
       "43. 'pl_c'\n",
       "44. 'pl_i'\n",
       "45. 'pl_g'\n",
       "46. 'pl_x'\n",
       "47. 'pl_m'\n",
       "48. 'pl_k'\n",
       "\n",
       "\n"
      ],
      "text/plain": [
       " [1] \"countrycode\"   \"year\"          \"yr_sch\"        \"country\"      \n",
       " [5] \"currency_unit\" \"rgdpe\"         \"rgdpo\"         \"pop\"          \n",
       " [9] \"emp\"           \"avh\"           \"hc\"            \"ccon\"         \n",
       "[13] \"cda\"           \"cgdpe\"         \"cgdpo\"         \"ck\"           \n",
       "[17] \"ctfp\"          \"cwtfp\"         \"rgdpna\"        \"rconna\"       \n",
       "[21] \"rdana\"         \"rkna\"          \"rtfpna\"        \"rwtfpna\"      \n",
       "[25] \"labsh\"         \"delta\"         \"xr\"            \"pl_con\"       \n",
       "[29] \"pl_da\"         \"pl_gdpo\"       \"i_cig\"         \"i_xm\"         \n",
       "[33] \"i_xr\"          \"i_outlier\"     \"cor_exp\"       \"statcap\"      \n",
       "[37] \"csh_c\"         \"csh_i\"         \"csh_g\"         \"csh_x\"        \n",
       "[41] \"csh_m\"         \"csh_r\"         \"pl_c\"          \"pl_i\"         \n",
       "[45] \"pl_g\"          \"pl_x\"          \"pl_m\"          \"pl_k\"         "
      ]
     },
     "metadata": {},
     "output_type": "display_data"
    },
    {
     "data": {
      "text/html": [
       "<ol class=list-inline>\n",
       "\t<li>'countrycode'</li>\n",
       "\t<li>'year'</li>\n",
       "\t<li>'yr_sch'</li>\n",
       "\t<li>'country'</li>\n",
       "\t<li>'currency_unit'</li>\n",
       "\t<li>'rgdpe'</li>\n",
       "\t<li>'rgdpo'</li>\n",
       "\t<li>'pop'</li>\n",
       "\t<li>'emp'</li>\n",
       "\t<li>'avh'</li>\n",
       "\t<li>'hc'</li>\n",
       "\t<li>'ccon'</li>\n",
       "\t<li>'cda'</li>\n",
       "\t<li>'cgdpe'</li>\n",
       "\t<li>'cgdpo'</li>\n",
       "\t<li>'ck'</li>\n",
       "\t<li>'ctfp'</li>\n",
       "\t<li>'cwtfp'</li>\n",
       "\t<li>'rgdpna'</li>\n",
       "\t<li>'rconna'</li>\n",
       "\t<li>'rdana'</li>\n",
       "\t<li>'rkna'</li>\n",
       "\t<li>'rtfpna'</li>\n",
       "\t<li>'rwtfpna'</li>\n",
       "\t<li>'labsh'</li>\n",
       "\t<li>'delta'</li>\n",
       "\t<li>'xr'</li>\n",
       "\t<li>'pl_con'</li>\n",
       "\t<li>'pl_da'</li>\n",
       "\t<li>'pl_gdpo'</li>\n",
       "\t<li>'i_cig'</li>\n",
       "\t<li>'i_xm'</li>\n",
       "\t<li>'i_xr'</li>\n",
       "\t<li>'i_outlier'</li>\n",
       "\t<li>'cor_exp'</li>\n",
       "\t<li>'statcap'</li>\n",
       "\t<li>'csh_c'</li>\n",
       "\t<li>'csh_i'</li>\n",
       "\t<li>'csh_g'</li>\n",
       "\t<li>'csh_x'</li>\n",
       "\t<li>'csh_m'</li>\n",
       "\t<li>'csh_r'</li>\n",
       "\t<li>'pl_c'</li>\n",
       "\t<li>'pl_i'</li>\n",
       "\t<li>'pl_g'</li>\n",
       "\t<li>'pl_x'</li>\n",
       "\t<li>'pl_m'</li>\n",
       "\t<li>'pl_k'</li>\n",
       "</ol>\n"
      ],
      "text/latex": [
       "\\begin{enumerate*}\n",
       "\\item 'countrycode'\n",
       "\\item 'year'\n",
       "\\item 'yr\\_sch'\n",
       "\\item 'country'\n",
       "\\item 'currency\\_unit'\n",
       "\\item 'rgdpe'\n",
       "\\item 'rgdpo'\n",
       "\\item 'pop'\n",
       "\\item 'emp'\n",
       "\\item 'avh'\n",
       "\\item 'hc'\n",
       "\\item 'ccon'\n",
       "\\item 'cda'\n",
       "\\item 'cgdpe'\n",
       "\\item 'cgdpo'\n",
       "\\item 'ck'\n",
       "\\item 'ctfp'\n",
       "\\item 'cwtfp'\n",
       "\\item 'rgdpna'\n",
       "\\item 'rconna'\n",
       "\\item 'rdana'\n",
       "\\item 'rkna'\n",
       "\\item 'rtfpna'\n",
       "\\item 'rwtfpna'\n",
       "\\item 'labsh'\n",
       "\\item 'delta'\n",
       "\\item 'xr'\n",
       "\\item 'pl\\_con'\n",
       "\\item 'pl\\_da'\n",
       "\\item 'pl\\_gdpo'\n",
       "\\item 'i\\_cig'\n",
       "\\item 'i\\_xm'\n",
       "\\item 'i\\_xr'\n",
       "\\item 'i\\_outlier'\n",
       "\\item 'cor\\_exp'\n",
       "\\item 'statcap'\n",
       "\\item 'csh\\_c'\n",
       "\\item 'csh\\_i'\n",
       "\\item 'csh\\_g'\n",
       "\\item 'csh\\_x'\n",
       "\\item 'csh\\_m'\n",
       "\\item 'csh\\_r'\n",
       "\\item 'pl\\_c'\n",
       "\\item 'pl\\_i'\n",
       "\\item 'pl\\_g'\n",
       "\\item 'pl\\_x'\n",
       "\\item 'pl\\_m'\n",
       "\\item 'pl\\_k'\n",
       "\\end{enumerate*}\n"
      ],
      "text/markdown": [
       "1. 'countrycode'\n",
       "2. 'year'\n",
       "3. 'yr_sch'\n",
       "4. 'country'\n",
       "5. 'currency_unit'\n",
       "6. 'rgdpe'\n",
       "7. 'rgdpo'\n",
       "8. 'pop'\n",
       "9. 'emp'\n",
       "10. 'avh'\n",
       "11. 'hc'\n",
       "12. 'ccon'\n",
       "13. 'cda'\n",
       "14. 'cgdpe'\n",
       "15. 'cgdpo'\n",
       "16. 'ck'\n",
       "17. 'ctfp'\n",
       "18. 'cwtfp'\n",
       "19. 'rgdpna'\n",
       "20. 'rconna'\n",
       "21. 'rdana'\n",
       "22. 'rkna'\n",
       "23. 'rtfpna'\n",
       "24. 'rwtfpna'\n",
       "25. 'labsh'\n",
       "26. 'delta'\n",
       "27. 'xr'\n",
       "28. 'pl_con'\n",
       "29. 'pl_da'\n",
       "30. 'pl_gdpo'\n",
       "31. 'i_cig'\n",
       "32. 'i_xm'\n",
       "33. 'i_xr'\n",
       "34. 'i_outlier'\n",
       "35. 'cor_exp'\n",
       "36. 'statcap'\n",
       "37. 'csh_c'\n",
       "38. 'csh_i'\n",
       "39. 'csh_g'\n",
       "40. 'csh_x'\n",
       "41. 'csh_m'\n",
       "42. 'csh_r'\n",
       "43. 'pl_c'\n",
       "44. 'pl_i'\n",
       "45. 'pl_g'\n",
       "46. 'pl_x'\n",
       "47. 'pl_m'\n",
       "48. 'pl_k'\n",
       "\n",
       "\n"
      ],
      "text/plain": [
       " [1] \"countrycode\"   \"year\"          \"yr_sch\"        \"country\"      \n",
       " [5] \"currency_unit\" \"rgdpe\"         \"rgdpo\"         \"pop\"          \n",
       " [9] \"emp\"           \"avh\"           \"hc\"            \"ccon\"         \n",
       "[13] \"cda\"           \"cgdpe\"         \"cgdpo\"         \"ck\"           \n",
       "[17] \"ctfp\"          \"cwtfp\"         \"rgdpna\"        \"rconna\"       \n",
       "[21] \"rdana\"         \"rkna\"          \"rtfpna\"        \"rwtfpna\"      \n",
       "[25] \"labsh\"         \"delta\"         \"xr\"            \"pl_con\"       \n",
       "[29] \"pl_da\"         \"pl_gdpo\"       \"i_cig\"         \"i_xm\"         \n",
       "[33] \"i_xr\"          \"i_outlier\"     \"cor_exp\"       \"statcap\"      \n",
       "[37] \"csh_c\"         \"csh_i\"         \"csh_g\"         \"csh_x\"        \n",
       "[41] \"csh_m\"         \"csh_r\"         \"pl_c\"          \"pl_i\"         \n",
       "[45] \"pl_g\"          \"pl_x\"          \"pl_m\"          \"pl_k\"         "
      ]
     },
     "metadata": {},
     "output_type": "display_data"
    },
    {
     "data": {
      "text/html": [
       "<table>\n",
       "<thead><tr><th scope=col>countrycode</th><th scope=col>country</th><th scope=col>currency_unit</th><th scope=col>year</th><th scope=col>rgdpe</th><th scope=col>rgdpo</th><th scope=col>pop</th><th scope=col>emp</th><th scope=col>avh</th><th scope=col>hc</th><th scope=col>...</th><th scope=col>csh_x</th><th scope=col>csh_m</th><th scope=col>csh_r</th><th scope=col>pl_c</th><th scope=col>pl_i</th><th scope=col>pl_g</th><th scope=col>pl_x</th><th scope=col>pl_m</th><th scope=col>pl_k</th><th scope=col>yr_sch</th></tr></thead>\n",
       "<tbody>\n",
       "\t<tr><td>ALB          </td><td>Albania      </td><td>Lek          </td><td>1950         </td><td>      NA     </td><td>      NA     </td><td>      NA     </td><td>       NA    </td><td>NA           </td><td>      NA     </td><td>...          </td><td>         NA  </td><td>         NA  </td><td>           NA</td><td>       NA    </td><td>       NA    </td><td>       NA    </td><td>       NA    </td><td>       NA    </td><td>       NA    </td><td>3.503085     </td></tr>\n",
       "\t<tr><td>ALB          </td><td>Albania      </td><td>Lek          </td><td>1955         </td><td>      NA     </td><td>      NA     </td><td>      NA     </td><td>       NA    </td><td>NA           </td><td>      NA     </td><td>...          </td><td>         NA  </td><td>         NA  </td><td>           NA</td><td>       NA    </td><td>       NA    </td><td>       NA    </td><td>       NA    </td><td>       NA    </td><td>       NA    </td><td>4.181777     </td></tr>\n",
       "\t<tr><td>ALB          </td><td>Albania      </td><td>Lek          </td><td>1960         </td><td>      NA     </td><td>      NA     </td><td>      NA     </td><td>       NA    </td><td>NA           </td><td>      NA     </td><td>...          </td><td>         NA  </td><td>         NA  </td><td>           NA</td><td>       NA    </td><td>       NA    </td><td>       NA    </td><td>       NA    </td><td>       NA    </td><td>       NA    </td><td>4.574713     </td></tr>\n",
       "\t<tr><td>ALB          </td><td>Albania      </td><td>Lek          </td><td>1965         </td><td>      NA     </td><td>      NA     </td><td>      NA     </td><td>       NA    </td><td>NA           </td><td>      NA     </td><td>...          </td><td>         NA  </td><td>         NA  </td><td>           NA</td><td>       NA    </td><td>       NA    </td><td>       NA    </td><td>       NA    </td><td>       NA    </td><td>       NA    </td><td>4.556429     </td></tr>\n",
       "\t<tr><td>ALB          </td><td>Albania      </td><td>Lek          </td><td>1970         </td><td>7195.136     </td><td>7078.473     </td><td>2.150602     </td><td>0.7161763    </td><td>NA           </td><td>1.559145     </td><td>...          </td><td>0.003096413  </td><td>-0.00547019  </td><td>-0.0002164902</td><td>0.2695080    </td><td>0.9090545    </td><td>0.2165859    </td><td>0.6291517    </td><td>0.7380655    </td><td>0.7258177    </td><td>6.031481     </td></tr>\n",
       "\t<tr><td>ALB          </td><td>Albania      </td><td>Lek          </td><td>1975         </td><td>8762.292     </td><td>8629.828     </td><td>2.411229     </td><td>0.8368413    </td><td>NA           </td><td>1.704198     </td><td>...          </td><td>0.018435117  </td><td>-0.01770938  </td><td>-0.0025058421</td><td>0.2632298    </td><td>0.7907187    </td><td>0.1980078    </td><td>0.5052570    </td><td>0.5867749    </td><td>0.6386246    </td><td>8.358098     </td></tr>\n",
       "</tbody>\n",
       "</table>\n"
      ],
      "text/latex": [
       "\\begin{tabular}{r|llllllllllllllllllllllllllllllllllllllllllllllll}\n",
       " countrycode & country & currency\\_unit & year & rgdpe & rgdpo & pop & emp & avh & hc & ... & csh\\_x & csh\\_m & csh\\_r & pl\\_c & pl\\_i & pl\\_g & pl\\_x & pl\\_m & pl\\_k & yr\\_sch\\\\\n",
       "\\hline\n",
       "\t ALB           & Albania       & Lek           & 1950          &       NA      &       NA      &       NA      &        NA     & NA            &       NA      & ...           &          NA   &          NA   &            NA &        NA     &        NA     &        NA     &        NA     &        NA     &        NA     & 3.503085     \\\\\n",
       "\t ALB           & Albania       & Lek           & 1955          &       NA      &       NA      &       NA      &        NA     & NA            &       NA      & ...           &          NA   &          NA   &            NA &        NA     &        NA     &        NA     &        NA     &        NA     &        NA     & 4.181777     \\\\\n",
       "\t ALB           & Albania       & Lek           & 1960          &       NA      &       NA      &       NA      &        NA     & NA            &       NA      & ...           &          NA   &          NA   &            NA &        NA     &        NA     &        NA     &        NA     &        NA     &        NA     & 4.574713     \\\\\n",
       "\t ALB           & Albania       & Lek           & 1965          &       NA      &       NA      &       NA      &        NA     & NA            &       NA      & ...           &          NA   &          NA   &            NA &        NA     &        NA     &        NA     &        NA     &        NA     &        NA     & 4.556429     \\\\\n",
       "\t ALB           & Albania       & Lek           & 1970          & 7195.136      & 7078.473      & 2.150602      & 0.7161763     & NA            & 1.559145      & ...           & 0.003096413   & -0.00547019   & -0.0002164902 & 0.2695080     & 0.9090545     & 0.2165859     & 0.6291517     & 0.7380655     & 0.7258177     & 6.031481     \\\\\n",
       "\t ALB           & Albania       & Lek           & 1975          & 8762.292      & 8629.828      & 2.411229      & 0.8368413     & NA            & 1.704198      & ...           & 0.018435117   & -0.01770938   & -0.0025058421 & 0.2632298     & 0.7907187     & 0.1980078     & 0.5052570     & 0.5867749     & 0.6386246     & 8.358098     \\\\\n",
       "\\end{tabular}\n"
      ],
      "text/markdown": [
       "\n",
       "| countrycode | country | currency_unit | year | rgdpe | rgdpo | pop | emp | avh | hc | ... | csh_x | csh_m | csh_r | pl_c | pl_i | pl_g | pl_x | pl_m | pl_k | yr_sch |\n",
       "|---|---|---|---|---|---|---|---|---|---|---|---|---|---|---|---|---|---|---|---|---|\n",
       "| ALB           | Albania       | Lek           | 1950          |       NA      |       NA      |       NA      |        NA     | NA            |       NA      | ...           |          NA   |          NA   |            NA |        NA     |        NA     |        NA     |        NA     |        NA     |        NA     | 3.503085      |\n",
       "| ALB           | Albania       | Lek           | 1955          |       NA      |       NA      |       NA      |        NA     | NA            |       NA      | ...           |          NA   |          NA   |            NA |        NA     |        NA     |        NA     |        NA     |        NA     |        NA     | 4.181777      |\n",
       "| ALB           | Albania       | Lek           | 1960          |       NA      |       NA      |       NA      |        NA     | NA            |       NA      | ...           |          NA   |          NA   |            NA |        NA     |        NA     |        NA     |        NA     |        NA     |        NA     | 4.574713      |\n",
       "| ALB           | Albania       | Lek           | 1965          |       NA      |       NA      |       NA      |        NA     | NA            |       NA      | ...           |          NA   |          NA   |            NA |        NA     |        NA     |        NA     |        NA     |        NA     |        NA     | 4.556429      |\n",
       "| ALB           | Albania       | Lek           | 1970          | 7195.136      | 7078.473      | 2.150602      | 0.7161763     | NA            | 1.559145      | ...           | 0.003096413   | -0.00547019   | -0.0002164902 | 0.2695080     | 0.9090545     | 0.2165859     | 0.6291517     | 0.7380655     | 0.7258177     | 6.031481      |\n",
       "| ALB           | Albania       | Lek           | 1975          | 8762.292      | 8629.828      | 2.411229      | 0.8368413     | NA            | 1.704198      | ...           | 0.018435117   | -0.01770938   | -0.0025058421 | 0.2632298     | 0.7907187     | 0.1980078     | 0.5052570     | 0.5867749     | 0.6386246     | 8.358098      |\n",
       "\n"
      ],
      "text/plain": [
       "  countrycode country currency_unit year rgdpe    rgdpo    pop      emp      \n",
       "1 ALB         Albania Lek           1950       NA       NA       NA        NA\n",
       "2 ALB         Albania Lek           1955       NA       NA       NA        NA\n",
       "3 ALB         Albania Lek           1960       NA       NA       NA        NA\n",
       "4 ALB         Albania Lek           1965       NA       NA       NA        NA\n",
       "5 ALB         Albania Lek           1970 7195.136 7078.473 2.150602 0.7161763\n",
       "6 ALB         Albania Lek           1975 8762.292 8629.828 2.411229 0.8368413\n",
       "  avh hc       ... csh_x       csh_m       csh_r         pl_c      pl_i     \n",
       "1 NA        NA ...          NA          NA            NA        NA        NA\n",
       "2 NA        NA ...          NA          NA            NA        NA        NA\n",
       "3 NA        NA ...          NA          NA            NA        NA        NA\n",
       "4 NA        NA ...          NA          NA            NA        NA        NA\n",
       "5 NA  1.559145 ... 0.003096413 -0.00547019 -0.0002164902 0.2695080 0.9090545\n",
       "6 NA  1.704198 ... 0.018435117 -0.01770938 -0.0025058421 0.2632298 0.7907187\n",
       "  pl_g      pl_x      pl_m      pl_k      yr_sch  \n",
       "1        NA        NA        NA        NA 3.503085\n",
       "2        NA        NA        NA        NA 4.181777\n",
       "3        NA        NA        NA        NA 4.574713\n",
       "4        NA        NA        NA        NA 4.556429\n",
       "5 0.2165859 0.6291517 0.7380655 0.7258177 6.031481\n",
       "6 0.1980078 0.5052570 0.5867749 0.6386246 8.358098"
      ]
     },
     "metadata": {},
     "output_type": "display_data"
    }
   ],
   "source": [
    "BL.df3 <- BL.df2 %>% \n",
    "    rename(c(\"WBcode\"=\"countrycode\")) %>%\n",
    "    select(countrycode, year, yr_sch)\n",
    "    \n",
    "#the two methods of joining for comparison\n",
    "\n",
    "df_left_joined <- BL.df3 %>%\n",
    "    left_join(PWT.df, by = c(\"countrycode\", \"year\"))\n",
    "\n",
    "df_inner_joined <- BL.df3 %>%\n",
    "    inner_join(PWT.df, by = c(\"countrycode\", \"year\"))\n",
    "\n",
    "colnames(df_left_joined)\n",
    "colnames(df_inner_joined)\n",
    "\n",
    "\n",
    "#creation of gdp_sch\n",
    "\n",
    "gdp_sch <- PWT.df %>%\n",
    "    inner_join(BL.df3, by = c(\"countrycode\", \"year\"))\n",
    "\n",
    "head(gdp_sch)"
   ]
  },
  {
   "cell_type": "markdown",
   "metadata": {},
   "source": [
    "From examining the two respective datasets, we see that the `inner_join` function only retains rows in both datasets, matching pairs of observations whenever their keys are equal. Whereas the `left_join` function prioritizes the left dataset, keeping all observations in `x`.\n",
    "\n",
    "We can use `by` to tell dplyr which variable is the key, which we did in both methods above instructing the script to use `year` and `countrycode`."
   ]
  },
  {
   "cell_type": "markdown",
   "metadata": {},
   "source": [
    "### 3. (10 pts.) Calculate GDP per capita (y) and add it to “gdp_sch” using mutate. Select the variables “year”, “countrycode”, “y”, “yr_sch” . Filter so that you only have the years 1960 and 2010, and only the observations that both have schooling and GDP data for these years (refer to the filter exercises in the earlier assignment). Also create a variable “ln_y” as the natural logarithm of y."
   ]
  },
  {
   "cell_type": "code",
   "execution_count": 26,
   "metadata": {},
   "outputs": [
    {
     "data": {
      "text/html": [
       "<table>\n",
       "<thead><tr><th></th><th scope=col>year</th><th scope=col>countrycode</th><th scope=col>y</th><th scope=col>yr_sch</th><th scope=col>ln_y</th></tr></thead>\n",
       "<tbody>\n",
       "\t<tr><th scope=row>2</th><td>2010     </td><td>ALB      </td><td> 8978.370</td><td>11.124534</td><td> 9.102574</td></tr>\n",
       "\t<tr><th scope=row>4</th><td>2010     </td><td>ARE      </td><td>56490.122</td><td> 9.529076</td><td>10.941821</td></tr>\n",
       "\t<tr><th scope=row>5</th><td>1960     </td><td>ARG      </td><td> 3200.288</td><td> 6.795064</td><td> 8.070996</td></tr>\n",
       "\t<tr><th scope=row>6</th><td>2010     </td><td>ARG      </td><td>18501.466</td><td>10.545528</td><td> 9.825605</td></tr>\n",
       "\t<tr><th scope=row>8</th><td>2010     </td><td>ARM      </td><td> 7111.749</td><td>10.874534</td><td> 8.869504</td></tr>\n",
       "\t<tr><th scope=row>9</th><td>1960     </td><td>AUS      </td><td>14059.699</td><td> 9.665625</td><td> 9.551068</td></tr>\n",
       "</tbody>\n",
       "</table>\n"
      ],
      "text/latex": [
       "\\begin{tabular}{r|lllll}\n",
       "  & year & countrycode & y & yr\\_sch & ln\\_y\\\\\n",
       "\\hline\n",
       "\t2 & 2010      & ALB       &  8978.370 & 11.124534 &  9.102574\\\\\n",
       "\t4 & 2010      & ARE       & 56490.122 &  9.529076 & 10.941821\\\\\n",
       "\t5 & 1960      & ARG       &  3200.288 &  6.795064 &  8.070996\\\\\n",
       "\t6 & 2010      & ARG       & 18501.466 & 10.545528 &  9.825605\\\\\n",
       "\t8 & 2010      & ARM       &  7111.749 & 10.874534 &  8.869504\\\\\n",
       "\t9 & 1960      & AUS       & 14059.699 &  9.665625 &  9.551068\\\\\n",
       "\\end{tabular}\n"
      ],
      "text/markdown": [
       "\n",
       "| <!--/--> | year | countrycode | y | yr_sch | ln_y |\n",
       "|---|---|---|---|---|---|\n",
       "| 2 | 2010      | ALB       |  8978.370 | 11.124534 |  9.102574 |\n",
       "| 4 | 2010      | ARE       | 56490.122 |  9.529076 | 10.941821 |\n",
       "| 5 | 1960      | ARG       |  3200.288 |  6.795064 |  8.070996 |\n",
       "| 6 | 2010      | ARG       | 18501.466 | 10.545528 |  9.825605 |\n",
       "| 8 | 2010      | ARM       |  7111.749 | 10.874534 |  8.869504 |\n",
       "| 9 | 1960      | AUS       | 14059.699 |  9.665625 |  9.551068 |\n",
       "\n"
      ],
      "text/plain": [
       "  year countrycode y         yr_sch    ln_y     \n",
       "2 2010 ALB          8978.370 11.124534  9.102574\n",
       "4 2010 ARE         56490.122  9.529076 10.941821\n",
       "5 1960 ARG          3200.288  6.795064  8.070996\n",
       "6 2010 ARG         18501.466 10.545528  9.825605\n",
       "8 2010 ARM          7111.749 10.874534  8.869504\n",
       "9 1960 AUS         14059.699  9.665625  9.551068"
      ]
     },
     "metadata": {},
     "output_type": "display_data"
    }
   ],
   "source": [
    "# Type Code in this cell that answers the question\n",
    "\n",
    "target  <- c(\"1960\", \"2010\")\n",
    "\n",
    "gdp_sch <- gdp_sch %>%\n",
    "    mutate(y = rgdpe / pop) %>%\n",
    "    select(year, countrycode, y, yr_sch) %>%\n",
    "    filter(year %in% target) %>%\n",
    "    drop_na(yr_sch) %>%\n",
    "    drop_na(y) %>%\n",
    "    mutate(ln_y = log(y))\n",
    "    \n",
    "\n",
    "head(gdp_sch)\n"
   ]
  },
  {
   "cell_type": "markdown",
   "metadata": {},
   "source": [
    "### 4. (3 pts.) Create average GDP growth and remove 2010 observations by running lines of code below. Summarize what the code does in your answers."
   ]
  },
  {
   "cell_type": "code",
   "execution_count": 27,
   "metadata": {},
   "outputs": [
    {
     "data": {
      "text/html": [
       "<table>\n",
       "<thead><tr><th scope=col>countrycode</th><th scope=col>y</th><th scope=col>yr_sch</th><th scope=col>ln_y</th><th scope=col>g</th></tr></thead>\n",
       "<tbody>\n",
       "\t<tr><td>ARG          </td><td> 3200.2882   </td><td>6.7950640    </td><td>8.070996     </td><td> 0.0350921824</td></tr>\n",
       "\t<tr><td>AUS          </td><td>14059.6987   </td><td>9.6656246    </td><td>9.551068     </td><td> 0.0224296988</td></tr>\n",
       "\t<tr><td>AUT          </td><td> 9347.8030   </td><td>7.0353875    </td><td>9.142897     </td><td> 0.0302757647</td></tr>\n",
       "\t<tr><td>BDI          </td><td>  655.8072   </td><td>1.2076243    </td><td>6.485867     </td><td>-0.0005668748</td></tr>\n",
       "\t<tr><td>BEL          </td><td>10486.7160   </td><td>8.4332666    </td><td>9.257865     </td><td> 0.0271321822</td></tr>\n",
       "\t<tr><td>BEN          </td><td> 1577.3109   </td><td>0.6454067    </td><td>7.363477     </td><td> 0.0018266246</td></tr>\n",
       "</tbody>\n",
       "</table>\n"
      ],
      "text/latex": [
       "\\begin{tabular}{r|lllll}\n",
       " countrycode & y & yr\\_sch & ln\\_y & g\\\\\n",
       "\\hline\n",
       "\t ARG           &  3200.2882    & 6.7950640     & 8.070996      &  0.0350921824\\\\\n",
       "\t AUS           & 14059.6987    & 9.6656246     & 9.551068      &  0.0224296988\\\\\n",
       "\t AUT           &  9347.8030    & 7.0353875     & 9.142897      &  0.0302757647\\\\\n",
       "\t BDI           &   655.8072    & 1.2076243     & 6.485867      & -0.0005668748\\\\\n",
       "\t BEL           & 10486.7160    & 8.4332666     & 9.257865      &  0.0271321822\\\\\n",
       "\t BEN           &  1577.3109    & 0.6454067     & 7.363477      &  0.0018266246\\\\\n",
       "\\end{tabular}\n"
      ],
      "text/markdown": [
       "\n",
       "| countrycode | y | yr_sch | ln_y | g |\n",
       "|---|---|---|---|---|\n",
       "| ARG           |  3200.2882    | 6.7950640     | 8.070996      |  0.0350921824 |\n",
       "| AUS           | 14059.6987    | 9.6656246     | 9.551068      |  0.0224296988 |\n",
       "| AUT           |  9347.8030    | 7.0353875     | 9.142897      |  0.0302757647 |\n",
       "| BDI           |   655.8072    | 1.2076243     | 6.485867      | -0.0005668748 |\n",
       "| BEL           | 10486.7160    | 8.4332666     | 9.257865      |  0.0271321822 |\n",
       "| BEN           |  1577.3109    | 0.6454067     | 7.363477      |  0.0018266246 |\n",
       "\n"
      ],
      "text/plain": [
       "  countrycode y          yr_sch    ln_y     g            \n",
       "1 ARG          3200.2882 6.7950640 8.070996  0.0350921824\n",
       "2 AUS         14059.6987 9.6656246 9.551068  0.0224296988\n",
       "3 AUT          9347.8030 7.0353875 9.142897  0.0302757647\n",
       "4 BDI           655.8072 1.2076243 6.485867 -0.0005668748\n",
       "5 BEL         10486.7160 8.4332666 9.257865  0.0271321822\n",
       "6 BEN          1577.3109 0.6454067 7.363477  0.0018266246"
      ]
     },
     "metadata": {},
     "output_type": "display_data"
    }
   ],
   "source": [
    "gdp_sch <- gdp_sch %>%\n",
    "              group_by(countrycode) %>%\n",
    "              mutate(g   = log(  lead(y) / y )/ (2010 - 1960)  ) %>%\n",
    "              filter(year == 1960) %>%\n",
    "              select(-year)\n",
    "head(gdp_sch)"
   ]
  },
  {
   "cell_type": "markdown",
   "metadata": {},
   "source": [
    "The code in the cell above creates average GDP growth and removes 2010 observations.\n",
    "\n",
    "First, we see it group the data by the `countrycode` variable. Then, it creates new variable `g` to represent the average annual GDP Growth by performing the following calculation: log(  lead(y) / y )/ (2010 - 1960). Next, it uses the `filter` function to remove any data not from the year 1960. Finally, the code deletes the `year` column.\n",
    "\n",
    "We can see from the output that the code did all of the above succesfully."
   ]
  },
  {
   "cell_type": "markdown",
   "metadata": {},
   "source": [
    "## Section 2 Exercises"
   ]
  },
  {
   "cell_type": "markdown",
   "metadata": {},
   "source": [
    "### 1. (5 pts.) The first test is to check whether poor countries, in general, grew faster in the period 1960-2010 time periods. To test this, draw a graph of inital GDP on the x-axis and subsequent growth on the y-axis. Use scale_x_continuous to create a log-scale on the x-axis, and include the code that generates the graph in your notebook. If you have done it correctly, you will see a graph that looks something like the one below. Apparently, there is very little connection between initial GDP per capita and subsequent growth. If there was convergence, this graph should slope downwards: rich countries should grow slower. Thus, convergence fails!\n"
   ]
  },
  {
   "cell_type": "code",
   "execution_count": 28,
   "metadata": {},
   "outputs": [
    {
     "data": {
      "image/png": "[encoded data removed]",
      "text/plain": [
       "plot without title"
      ]
     },
     "metadata": {},
     "output_type": "display_data"
    }
   ],
   "source": [
    "ggplot(data = gdp_sch) + \n",
    "    geom_text(mapping = aes(x = y, y = g, label = countrycode)) +\n",
    "    xlab(\"Inital GDP\") +\n",
    "    ylab(\"Subsequent Growth\") +\n",
    "    scale_x_continuous(trans = 'log', breaks = 1000* 2**(0:10))\n",
    "\n"
   ]
  },
  {
   "cell_type": "markdown",
   "metadata": {},
   "source": [
    "### 2. (5 pts.) Why did the simple prediction not go through? Well, an obvious issue is omitted variable bias. Countries that were poor in 1960 had other problems that might have made them less likely to grow. To test if this is a relevant concern, plot 1960 GDP per capita on the x-axis, and average 1960 years of schooling on the y-axis. Make sure to include the code that generates the graph in your notebook."
   ]
  },
  {
   "cell_type": "code",
   "execution_count": 29,
   "metadata": {},
   "outputs": [
    {
     "data": {
      "image/png": "[encoded data removed]",
      "text/plain": [
       "plot without title"
      ]
     },
     "metadata": {},
     "output_type": "display_data"
    }
   ],
   "source": [
    "ggplot(data = gdp_sch) + \n",
    "    geom_text(mapping = aes(x = y, y = yr_sch, label = countrycode)) +\n",
    "    xlab(\"GDP per capita\") +\n",
    "    ylab(\"average 1960 years of schooling\") +\n",
    "    geom_smooth(mapping = aes(x = y, y = yr_sch), method = \"lm\", se = FALSE)"
   ]
  },
  {
   "cell_type": "markdown",
   "metadata": {},
   "source": [
    "### 3. (5 pts.) A natural way to check how much this could matter is to plot the years of schooling against subsequent growth. Do this by plotting yr_sch on the x-axis and g on the y-axis. Add both a linear plot and a smooth plot using geom_smooth. Include the code that generates the graph in your notebook."
   ]
  },
  {
   "cell_type": "code",
   "execution_count": 30,
   "metadata": {},
   "outputs": [
    {
     "data": {
      "image/png": "[encoded data removed]",
      "text/plain": [
       "plot without title"
      ]
     },
     "metadata": {},
     "output_type": "display_data"
    }
   ],
   "source": [
    "ggplot(data = gdp_sch) + \n",
    "    geom_text(mapping = aes(x = yr_sch, y = g, label = countrycode)) +\n",
    "    xlab(\"average 1960 years of schooling\") +\n",
    "    ylab(\"Subsequent Growth\") +\n",
    "    geom_smooth(mapping = aes(x = yr_sch, y = g), method = \"lm\", se = FALSE) +\n",
    "    geom_smooth(mapping = aes(x = yr_sch, y = g), linetype = \"dashed\", method = \"loess\", se = FALSE)"
   ]
  },
  {
   "cell_type": "markdown",
   "metadata": {},
   "source": [
    "## Section 3 Exercises"
   ]
  },
  {
   "cell_type": "markdown",
   "metadata": {},
   "source": [
    "### 1. (5 pts.) Add fitted values (called predictions in R) to gdp_sch. You should use add_predictions() which takes a data frame and a model as arguments. It adds the predictions from the model to a new column in the data frame. Read up on the example of add_predictions in Chapter 23 in R for Data Science. Note: you will need to include the regression model commands and the code that generates the grid in your script for it to run without errors."
   ]
  },
  {
   "cell_type": "code",
   "execution_count": 31,
   "metadata": {},
   "outputs": [
    {
     "data": {
      "text/html": [
       "<dl class=dl-horizontal>\n",
       "\t<dt>(Intercept)</dt>\n",
       "\t\t<dd>-14.5696773773494</dd>\n",
       "\t<dt>ln_y</dt>\n",
       "\t\t<dd>2.34947418316902</dd>\n",
       "</dl>\n"
      ],
      "text/latex": [
       "\\begin{description*}\n",
       "\\item[(Intercept)] -14.5696773773494\n",
       "\\item[ln\\textbackslash{}\\_y] 2.34947418316902\n",
       "\\end{description*}\n"
      ],
      "text/markdown": [
       "(Intercept)\n",
       ":   -14.5696773773494ln_y\n",
       ":   2.34947418316902\n",
       "\n"
      ],
      "text/plain": [
       "(Intercept)        ln_y \n",
       " -14.569677    2.349474 "
      ]
     },
     "metadata": {},
     "output_type": "display_data"
    },
    {
     "data": {
      "text/html": [
       "<table>\n",
       "<thead><tr><th scope=col>countrycode</th><th scope=col>y</th><th scope=col>yr_sch</th><th scope=col>ln_y</th><th scope=col>g</th><th scope=col>pred</th></tr></thead>\n",
       "<tbody>\n",
       "\t<tr><td>ARG          </td><td> 3200.2882   </td><td>6.7950640    </td><td>8.070996     </td><td> 0.0350921824</td><td>4.3929197    </td></tr>\n",
       "\t<tr><td>AUS          </td><td>14059.6987   </td><td>9.6656246    </td><td>9.551068     </td><td> 0.0224296988</td><td>7.8703097    </td></tr>\n",
       "\t<tr><td>AUT          </td><td> 9347.8030   </td><td>7.0353875    </td><td>9.142897     </td><td> 0.0302757647</td><td>6.9113222    </td></tr>\n",
       "\t<tr><td>BDI          </td><td>  655.8072   </td><td>1.2076243    </td><td>6.485867     </td><td>-0.0005668748</td><td>0.6686995    </td></tr>\n",
       "\t<tr><td>BEL          </td><td>10486.7160   </td><td>8.4332666    </td><td>9.257865     </td><td> 0.0271321822</td><td>7.1814365    </td></tr>\n",
       "\t<tr><td>BEN          </td><td> 1577.3109   </td><td>0.6454067    </td><td>7.363477     </td><td> 0.0018266246</td><td>2.7306211    </td></tr>\n",
       "</tbody>\n",
       "</table>\n"
      ],
      "text/latex": [
       "\\begin{tabular}{r|llllll}\n",
       " countrycode & y & yr\\_sch & ln\\_y & g & pred\\\\\n",
       "\\hline\n",
       "\t ARG           &  3200.2882    & 6.7950640     & 8.070996      &  0.0350921824 & 4.3929197    \\\\\n",
       "\t AUS           & 14059.6987    & 9.6656246     & 9.551068      &  0.0224296988 & 7.8703097    \\\\\n",
       "\t AUT           &  9347.8030    & 7.0353875     & 9.142897      &  0.0302757647 & 6.9113222    \\\\\n",
       "\t BDI           &   655.8072    & 1.2076243     & 6.485867      & -0.0005668748 & 0.6686995    \\\\\n",
       "\t BEL           & 10486.7160    & 8.4332666     & 9.257865      &  0.0271321822 & 7.1814365    \\\\\n",
       "\t BEN           &  1577.3109    & 0.6454067     & 7.363477      &  0.0018266246 & 2.7306211    \\\\\n",
       "\\end{tabular}\n"
      ],
      "text/markdown": [
       "\n",
       "| countrycode | y | yr_sch | ln_y | g | pred |\n",
       "|---|---|---|---|---|---|\n",
       "| ARG           |  3200.2882    | 6.7950640     | 8.070996      |  0.0350921824 | 4.3929197     |\n",
       "| AUS           | 14059.6987    | 9.6656246     | 9.551068      |  0.0224296988 | 7.8703097     |\n",
       "| AUT           |  9347.8030    | 7.0353875     | 9.142897      |  0.0302757647 | 6.9113222     |\n",
       "| BDI           |   655.8072    | 1.2076243     | 6.485867      | -0.0005668748 | 0.6686995     |\n",
       "| BEL           | 10486.7160    | 8.4332666     | 9.257865      |  0.0271321822 | 7.1814365     |\n",
       "| BEN           |  1577.3109    | 0.6454067     | 7.363477      |  0.0018266246 | 2.7306211     |\n",
       "\n"
      ],
      "text/plain": [
       "  countrycode y          yr_sch    ln_y     g             pred     \n",
       "1 ARG          3200.2882 6.7950640 8.070996  0.0350921824 4.3929197\n",
       "2 AUS         14059.6987 9.6656246 9.551068  0.0224296988 7.8703097\n",
       "3 AUT          9347.8030 7.0353875 9.142897  0.0302757647 6.9113222\n",
       "4 BDI           655.8072 1.2076243 6.485867 -0.0005668748 0.6686995\n",
       "5 BEL         10486.7160 8.4332666 9.257865  0.0271321822 7.1814365\n",
       "6 BEN          1577.3109 0.6454067 7.363477  0.0018266246 2.7306211"
      ]
     },
     "metadata": {},
     "output_type": "display_data"
    }
   ],
   "source": [
    "lm_sch1 <- lm(yr_sch ~ ln_y, data = gdp_sch)\n",
    "  coef(lm_sch1)\n",
    "\n",
    "gdp_sch <- gdp_sch %>%\n",
    "    data_grid(countrycode, y, yr_sch, ln_y, g)\n",
    "\n",
    "gdp_sch <- gdp_sch %>%\n",
    "    add_predictions(lm_sch1)\n",
    "head(gdp_sch)"
   ]
  },
  {
   "cell_type": "markdown",
   "metadata": {},
   "source": [
    "### 2. (5 pts.) Plot the predicted line from the regression of yr_sch on ln_y, overlaying it on a scatterplot of the data. Include the code that generates the graph in your notebook."
   ]
  },
  {
   "cell_type": "code",
   "execution_count": 32,
   "metadata": {},
   "outputs": [
    {
     "data": {
      "image/png": "[encoded data removed]",
      "text/plain": [
       "plot without title"
      ]
     },
     "metadata": {},
     "output_type": "display_data"
    }
   ],
   "source": [
    "ggplot(lm_sch1, aes(ln_y)) +\n",
    "  geom_point(aes(y = yr_sch)) +\n",
    "  geom_line(aes(y = pred), data = gdp_sch, colour = \"red\", size = 1)"
   ]
  },
  {
   "cell_type": "markdown",
   "metadata": {},
   "source": [
    "## Section 4 Exercises"
   ]
  },
  {
   "cell_type": "markdown",
   "metadata": {},
   "source": [
    "### 1. (5 pts.) Check Chapter 23 on how to add residuals, and add them to gdp_sch."
   ]
  },
  {
   "cell_type": "code",
   "execution_count": 33,
   "metadata": {},
   "outputs": [
    {
     "data": {
      "text/html": [
       "<table>\n",
       "<thead><tr><th scope=col>countrycode</th><th scope=col>y</th><th scope=col>yr_sch</th><th scope=col>ln_y</th><th scope=col>g</th><th scope=col>pred</th><th scope=col>resid</th></tr></thead>\n",
       "<tbody>\n",
       "\t<tr><td>ARG          </td><td> 3200.2882   </td><td>6.7950640    </td><td>8.070996     </td><td> 0.0350921824</td><td>4.3929197    </td><td> 2.4021443   </td></tr>\n",
       "\t<tr><td>AUS          </td><td>14059.6987   </td><td>9.6656246    </td><td>9.551068     </td><td> 0.0224296988</td><td>7.8703097    </td><td> 1.7953149   </td></tr>\n",
       "\t<tr><td>AUT          </td><td> 9347.8030   </td><td>7.0353875    </td><td>9.142897     </td><td> 0.0302757647</td><td>6.9113222    </td><td> 0.1240653   </td></tr>\n",
       "\t<tr><td>BDI          </td><td>  655.8072   </td><td>1.2076243    </td><td>6.485867     </td><td>-0.0005668748</td><td>0.6686995    </td><td> 0.5389249   </td></tr>\n",
       "\t<tr><td>BEL          </td><td>10486.7160   </td><td>8.4332666    </td><td>9.257865     </td><td> 0.0271321822</td><td>7.1814365    </td><td> 1.2518302   </td></tr>\n",
       "\t<tr><td>BEN          </td><td> 1577.3109   </td><td>0.6454067    </td><td>7.363477     </td><td> 0.0018266246</td><td>2.7306211    </td><td>-2.0852144   </td></tr>\n",
       "</tbody>\n",
       "</table>\n"
      ],
      "text/latex": [
       "\\begin{tabular}{r|lllllll}\n",
       " countrycode & y & yr\\_sch & ln\\_y & g & pred & resid\\\\\n",
       "\\hline\n",
       "\t ARG           &  3200.2882    & 6.7950640     & 8.070996      &  0.0350921824 & 4.3929197     &  2.4021443   \\\\\n",
       "\t AUS           & 14059.6987    & 9.6656246     & 9.551068      &  0.0224296988 & 7.8703097     &  1.7953149   \\\\\n",
       "\t AUT           &  9347.8030    & 7.0353875     & 9.142897      &  0.0302757647 & 6.9113222     &  0.1240653   \\\\\n",
       "\t BDI           &   655.8072    & 1.2076243     & 6.485867      & -0.0005668748 & 0.6686995     &  0.5389249   \\\\\n",
       "\t BEL           & 10486.7160    & 8.4332666     & 9.257865      &  0.0271321822 & 7.1814365     &  1.2518302   \\\\\n",
       "\t BEN           &  1577.3109    & 0.6454067     & 7.363477      &  0.0018266246 & 2.7306211     & -2.0852144   \\\\\n",
       "\\end{tabular}\n"
      ],
      "text/markdown": [
       "\n",
       "| countrycode | y | yr_sch | ln_y | g | pred | resid |\n",
       "|---|---|---|---|---|---|---|\n",
       "| ARG           |  3200.2882    | 6.7950640     | 8.070996      |  0.0350921824 | 4.3929197     |  2.4021443    |\n",
       "| AUS           | 14059.6987    | 9.6656246     | 9.551068      |  0.0224296988 | 7.8703097     |  1.7953149    |\n",
       "| AUT           |  9347.8030    | 7.0353875     | 9.142897      |  0.0302757647 | 6.9113222     |  0.1240653    |\n",
       "| BDI           |   655.8072    | 1.2076243     | 6.485867      | -0.0005668748 | 0.6686995     |  0.5389249    |\n",
       "| BEL           | 10486.7160    | 8.4332666     | 9.257865      |  0.0271321822 | 7.1814365     |  1.2518302    |\n",
       "| BEN           |  1577.3109    | 0.6454067     | 7.363477      |  0.0018266246 | 2.7306211     | -2.0852144    |\n",
       "\n"
      ],
      "text/plain": [
       "  countrycode y          yr_sch    ln_y     g             pred      resid     \n",
       "1 ARG          3200.2882 6.7950640 8.070996  0.0350921824 4.3929197  2.4021443\n",
       "2 AUS         14059.6987 9.6656246 9.551068  0.0224296988 7.8703097  1.7953149\n",
       "3 AUT          9347.8030 7.0353875 9.142897  0.0302757647 6.9113222  0.1240653\n",
       "4 BDI           655.8072 1.2076243 6.485867 -0.0005668748 0.6686995  0.5389249\n",
       "5 BEL         10486.7160 8.4332666 9.257865  0.0271321822 7.1814365  1.2518302\n",
       "6 BEN          1577.3109 0.6454067 7.363477  0.0018266246 2.7306211 -2.0852144"
      ]
     },
     "metadata": {},
     "output_type": "display_data"
    },
    {
     "data": {
      "image/png": "[encoded data removed]",
      "text/plain": [
       "plot without title"
      ]
     },
     "metadata": {},
     "output_type": "display_data"
    }
   ],
   "source": [
    "gdp_sch <- gdp_sch %>% \n",
    "  add_residuals(lm_sch1)\n",
    "\n",
    "head(gdp_sch)\n",
    "\n",
    "ggplot(gdp_sch, aes(resid)) + \n",
    "  geom_freqpoly(binwidth = 0.5)"
   ]
  },
  {
   "cell_type": "markdown",
   "metadata": {},
   "source": [
    "### 2. (10 pts.) Plot initial log GDP per capita and the residuals, with residuals on the y-axis. The graph should have no systematic relationship between GDP and the residuals if the model is correct. Note the empty space in the lower left corner. What do you think is the reason for this? Go back and check the raw plot of GDP and schooling for hints. Include the code that generates the graph in your notebook."
   ]
  },
  {
   "cell_type": "code",
   "execution_count": 34,
   "metadata": {},
   "outputs": [
    {
     "data": {
      "image/png": "[encoded data removed]",
      "text/plain": [
       "plot without title"
      ]
     },
     "metadata": {},
     "output_type": "display_data"
    }
   ],
   "source": [
    "ggplot(gdp_sch, aes(ln_y)) +\n",
    "    geom_point(aes(y = resid)) +\n",
    "    geom_smooth(mapping = aes(x = ln_y, y = resid), method = \"lm\", se = FALSE)"
   ]
  },
  {
   "cell_type": "markdown",
   "metadata": {},
   "source": [
    "We see that the model is correct as there is no systematic relationship between GDP and the residuals. TThe reason for the empty space is that the residuals for the values on the left should be closer to zero."
   ]
  },
  {
   "cell_type": "markdown",
   "metadata": {},
   "source": [
    "### 3. (10 pts.) Plot the relationship between the residuals from lm_sch1 and subsequent growth, with growth on the y-axis. How does the relationship look? Explain what this means in words, in terms of the growth experience of countries that have “more than expected schooling” and “less than expected” schooling. Include the code that generates the graph in your notebook."
   ]
  },
  {
   "cell_type": "code",
   "execution_count": 35,
   "metadata": {},
   "outputs": [
    {
     "data": {
      "image/png": "[encoded data removed]",
      "text/plain": [
       "plot without title"
      ]
     },
     "metadata": {},
     "output_type": "display_data"
    }
   ],
   "source": [
    "ggplot(gdp_sch, aes(resid)) +\n",
    "    geom_point(aes(y = g))  +\n",
    "    ylab(\"Subsequent Growth\") +\n",
    "    geom_smooth(mapping = aes(x = resid, y = g), method = \"lm\", se = FALSE)"
   ]
  },
  {
   "cell_type": "markdown",
   "metadata": {},
   "source": [
    "It is a positive relationship. Countries that have had \"more than expected schooling\" have grown more and countries that have had \"less than expected schooling\" have grown even less."
   ]
  },
  {
   "cell_type": "markdown",
   "metadata": {},
   "source": [
    "### 4. (5 pts.) What does geom_ref_line() do? What package does it come from? Why is displaying a reference line in plots showing residuals useful and important?"
   ]
  },
  {
   "cell_type": "markdown",
   "metadata": {},
   "source": [
    "The function `geom_ref_line()` adds a geom as reference line to a plot. It is equivalent to running `geom_hline()` or `geom_vline()` with default settings that are useful for visualizing models. It is included within the `modelr` package. Putting a reference line at zero for residuals is important because good models (generally) should have residuals centered at zero, with approximately the same variance (or distribution) over the support of x, and no correlation. A zero reference line makes it easier to judge these characteristics visually."
   ]
  },
  {
   "cell_type": "markdown",
   "metadata": {},
   "source": [
    "### 5. (6 pts.) Run three regressions, with growth as the dependent variable in all of them.\n",
    "#### Do one regression on initial schooling,\n",
    "#### Do one regression on the log of initial GDP, and\n",
    "#### Do one on both variables."
   ]
  },
  {
   "cell_type": "code",
   "execution_count": 36,
   "metadata": {},
   "outputs": [],
   "source": [
    "lm_in_sch <- lm(data = gdp_sch, g ~ yr_sch)\n",
    "\n",
    "lm_ln_y <- lm(data = gdp_sch, g ~ ln_y)\n",
    "\n",
    "lm_both <- lm(data = gdp_sch, g ~ yr_sch + ln_y)"
   ]
  },
  {
   "cell_type": "markdown",
   "metadata": {},
   "source": [
    "### 6. (5 pts.) Import in the library the package stargazer to make a table of the regression results you obtained in the previous question and include it in your submission folder. Use the html option to obtain a properly formatted table. Make sure to include the html output in your submission folder."
   ]
  },
  {
   "cell_type": "code",
   "execution_count": 37,
   "metadata": {},
   "outputs": [
    {
     "name": "stdout",
     "output_type": "stream",
     "text": [
      "\n",
      "<table style=\"text-align:center\"><caption><strong>Initial Schooling and Economic Growth Regression Results</strong></caption>\n",
      "<tr><td colspan=\"2\" style=\"border-bottom: 1px solid black\"></td></tr><tr><td style=\"text-align:left\"></td><td><em>Dependent variable:</em></td></tr>\n",
      "<tr><td></td><td colspan=\"1\" style=\"border-bottom: 1px solid black\"></td></tr>\n",
      "<tr><td style=\"text-align:left\"></td><td>g</td></tr>\n",
      "<tr><td colspan=\"2\" style=\"border-bottom: 1px solid black\"></td></tr><tr><td style=\"text-align:left\">yr_sch</td><td>0.002<sup>***</sup></td></tr>\n",
      "<tr><td style=\"text-align:left\"></td><td>(0.001)</td></tr>\n",
      "<tr><td style=\"text-align:left\"></td><td></td></tr>\n",
      "<tr><td style=\"text-align:left\">Constant</td><td>0.015<sup>***</sup></td></tr>\n",
      "<tr><td style=\"text-align:left\"></td><td>(0.003)</td></tr>\n",
      "<tr><td style=\"text-align:left\"></td><td></td></tr>\n",
      "<tr><td colspan=\"2\" style=\"border-bottom: 1px solid black\"></td></tr><tr><td style=\"text-align:left\">Observations</td><td>100</td></tr>\n",
      "<tr><td style=\"text-align:left\">R<sup>2</sup></td><td>0.115</td></tr>\n",
      "<tr><td style=\"text-align:left\">Adjusted R<sup>2</sup></td><td>0.106</td></tr>\n",
      "<tr><td style=\"text-align:left\">Residual Std. Error</td><td>0.016 (df = 98)</td></tr>\n",
      "<tr><td style=\"text-align:left\">F Statistic</td><td>12.695<sup>***</sup> (df = 1; 98)</td></tr>\n",
      "<tr><td colspan=\"2\" style=\"border-bottom: 1px solid black\"></td></tr><tr><td style=\"text-align:left\"><em>Note:</em></td><td style=\"text-align:right\"><sup>*</sup>p<0.1; <sup>**</sup>p<0.05; <sup>***</sup>p<0.01</td></tr>\n",
      "</table>\n",
      "\n",
      "<table style=\"text-align:center\"><caption><strong>Initial Schooling and Log of Initial GDP Regression Results</strong></caption>\n",
      "<tr><td colspan=\"2\" style=\"border-bottom: 1px solid black\"></td></tr><tr><td style=\"text-align:left\"></td><td><em>Dependent variable:</em></td></tr>\n",
      "<tr><td></td><td colspan=\"1\" style=\"border-bottom: 1px solid black\"></td></tr>\n",
      "<tr><td style=\"text-align:left\"></td><td>g</td></tr>\n",
      "<tr><td colspan=\"2\" style=\"border-bottom: 1px solid black\"></td></tr><tr><td style=\"text-align:left\">ln_y</td><td>0.0003</td></tr>\n",
      "<tr><td style=\"text-align:left\"></td><td>(0.002)</td></tr>\n",
      "<tr><td style=\"text-align:left\"></td><td></td></tr>\n",
      "<tr><td style=\"text-align:left\">Constant</td><td>0.022</td></tr>\n",
      "<tr><td style=\"text-align:left\"></td><td>(0.014)</td></tr>\n",
      "<tr><td style=\"text-align:left\"></td><td></td></tr>\n",
      "<tr><td colspan=\"2\" style=\"border-bottom: 1px solid black\"></td></tr><tr><td style=\"text-align:left\">Observations</td><td>100</td></tr>\n",
      "<tr><td style=\"text-align:left\">R<sup>2</sup></td><td>0.0002</td></tr>\n",
      "<tr><td style=\"text-align:left\">Adjusted R<sup>2</sup></td><td>-0.010</td></tr>\n",
      "<tr><td style=\"text-align:left\">Residual Std. Error</td><td>0.017 (df = 98)</td></tr>\n",
      "<tr><td style=\"text-align:left\">F Statistic</td><td>0.020 (df = 1; 98)</td></tr>\n",
      "<tr><td colspan=\"2\" style=\"border-bottom: 1px solid black\"></td></tr><tr><td style=\"text-align:left\"><em>Note:</em></td><td style=\"text-align:right\"><sup>*</sup>p<0.1; <sup>**</sup>p<0.05; <sup>***</sup>p<0.01</td></tr>\n",
      "</table>\n",
      "\n",
      "<table style=\"text-align:center\"><caption><strong>Initial Schooling and Economic Growth and Log of Initial GDP Regression Results</strong></caption>\n",
      "<tr><td colspan=\"2\" style=\"border-bottom: 1px solid black\"></td></tr><tr><td style=\"text-align:left\"></td><td><em>Dependent variable:</em></td></tr>\n",
      "<tr><td></td><td colspan=\"1\" style=\"border-bottom: 1px solid black\"></td></tr>\n",
      "<tr><td style=\"text-align:left\"></td><td>g</td></tr>\n",
      "<tr><td colspan=\"2\" style=\"border-bottom: 1px solid black\"></td></tr><tr><td style=\"text-align:left\">yr_sch</td><td>0.005<sup>***</sup></td></tr>\n",
      "<tr><td style=\"text-align:left\"></td><td>(0.001)</td></tr>\n",
      "<tr><td style=\"text-align:left\"></td><td></td></tr>\n",
      "<tr><td style=\"text-align:left\">ln_y</td><td>-0.011<sup>***</sup></td></tr>\n",
      "<tr><td style=\"text-align:left\"></td><td>(0.002)</td></tr>\n",
      "<tr><td style=\"text-align:left\"></td><td></td></tr>\n",
      "<tr><td style=\"text-align:left\">Constant</td><td>0.094<sup>***</sup></td></tr>\n",
      "<tr><td style=\"text-align:left\"></td><td>(0.017)</td></tr>\n",
      "<tr><td style=\"text-align:left\"></td><td></td></tr>\n",
      "<tr><td colspan=\"2\" style=\"border-bottom: 1px solid black\"></td></tr><tr><td style=\"text-align:left\">Observations</td><td>100</td></tr>\n",
      "<tr><td style=\"text-align:left\">R<sup>2</sup></td><td>0.276</td></tr>\n",
      "<tr><td style=\"text-align:left\">Adjusted R<sup>2</sup></td><td>0.261</td></tr>\n",
      "<tr><td style=\"text-align:left\">Residual Std. Error</td><td>0.014 (df = 97)</td></tr>\n",
      "<tr><td style=\"text-align:left\">F Statistic</td><td>18.498<sup>***</sup> (df = 2; 97)</td></tr>\n",
      "<tr><td colspan=\"2\" style=\"border-bottom: 1px solid black\"></td></tr><tr><td style=\"text-align:left\"><em>Note:</em></td><td style=\"text-align:right\"><sup>*</sup>p<0.1; <sup>**</sup>p<0.05; <sup>***</sup>p<0.01</td></tr>\n",
      "</table>\n"
     ]
    }
   ],
   "source": [
    "library(stargazer)\n",
    "\n",
    "stargazer(lm_in_sch, type = \"html\", title = \"Initial Schooling and Economic Growth Regression Results\", out= \"Initial_Schooling_and_Economic_Growth_Regression_Results.htm\")\n",
    "stargazer(lm_ln_y, type = \"html\", title = \"Initial Schooling and Log of Initial GDP Regression Results\", out= \"Initial_Schooling_and_Log_of_Initial_GDP_Regression_Results.htm\")\n",
    "stargazer(lm_both, type = \"html\", title = \"Initial Schooling and Economic Growth and Log of Initial GDP Regression Results\", out= \"Initial_Schooling_and_Economic_Growth_and_Log_of_Inititial_GDP_Regression_Results.htm\")\n"
   ]
  },
  {
   "cell_type": "markdown",
   "metadata": {},
   "source": [
    "### 7. (9 pts.) Interpret the coefficients, the significance level, and the R-squared value for each of the three regressions. Make sure to use words to describe the economic interpretation of the coefficients."
   ]
  },
  {
   "cell_type": "markdown",
   "metadata": {},
   "source": [
    "The coefficients for the first regression are statistically significant at the lowest p value p<0.01 therefore there is a non-zero correlation in the data. From the regression of the data and the statistical signifigance, we know that growth and initial schooling are positively correlated.\n",
    "\n",
    "The coefficients for the second regression are not statistically significant even at the highest p value p<0.1 therefore there is not a non-zero correlation in the data. From the regression of the data and the non-statistical signifigance, we know that there is no relationship between growth and Log of Initital GDP.\n",
    "\n",
    "The coefficients for the third regression are statistically significant at the lowest p value p<0.01 therefore there is a non-zero correlation in the data. From the regression of the data and the statistical signifigance, we know that economic growth, initial schooling, and Log of Initital GDP are positively correlated\n",
    "\n",
    "R-squared measures the strength of the relationship between the model and the dependent variable.\n",
    "\n",
    "The R^2 values are 0.115, 0.0002, and 0.276, respectively. This means that the third regression has the strongest relationship between the model and the dependent variable."
   ]
  }
 ],
 "metadata": {
  "kernelspec": {
   "display_name": "R",
   "language": "R",
   "name": "ir"
  },
  "language_info": {
   "codemirror_mode": "r",
   "file_extension": ".r",
   "mimetype": "text/x-r-source",
   "name": "R",
   "pygments_lexer": "r",
   "version": "3.6.1"
  }
 },
 "nbformat": 4,
 "nbformat_minor": 4
}
